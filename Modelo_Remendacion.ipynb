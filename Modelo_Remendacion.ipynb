{
 "cells": [
  {
   "cell_type": "markdown",
   "metadata": {},
   "source": [
    "Modelo de Recomendacion"
   ]
  },
  {
   "cell_type": "code",
   "execution_count": 16,
   "metadata": {},
   "outputs": [],
   "source": [
    "import pandas as pd\n",
    "import numpy as np\n",
    "from sklearn.neighbors import NearestNeighbors"
   ]
  },
  {
   "cell_type": "code",
   "execution_count": 9,
   "metadata": {},
   "outputs": [
    {
     "data": {
      "text/html": [
       "<div>\n",
       "<style scoped>\n",
       "    .dataframe tbody tr th:only-of-type {\n",
       "        vertical-align: middle;\n",
       "    }\n",
       "\n",
       "    .dataframe tbody tr th {\n",
       "        vertical-align: top;\n",
       "    }\n",
       "\n",
       "    .dataframe thead th {\n",
       "        text-align: right;\n",
       "    }\n",
       "</style>\n",
       "<table border=\"1\" class=\"dataframe\">\n",
       "  <thead>\n",
       "    <tr style=\"text-align: right;\">\n",
       "      <th></th>\n",
       "      <th>Unnamed: 0</th>\n",
       "      <th>user_id</th>\n",
       "      <th>user_url</th>\n",
       "      <th>item_id</th>\n",
       "      <th>helpful</th>\n",
       "      <th>recommend</th>\n",
       "      <th>sentiment_analysis</th>\n",
       "    </tr>\n",
       "  </thead>\n",
       "  <tbody>\n",
       "    <tr>\n",
       "      <th>0</th>\n",
       "      <td>0</td>\n",
       "      <td>76561198079601835</td>\n",
       "      <td>http://steamcommunity.com/profiles/76561198079...</td>\n",
       "      <td>730</td>\n",
       "      <td>0 of 1 people (0%) found this review helpful</td>\n",
       "      <td>True</td>\n",
       "      <td>1</td>\n",
       "    </tr>\n",
       "  </tbody>\n",
       "</table>\n",
       "</div>"
      ],
      "text/plain": [
       "   Unnamed: 0            user_id  \\\n",
       "0           0  76561198079601835   \n",
       "\n",
       "                                            user_url  item_id  \\\n",
       "0  http://steamcommunity.com/profiles/76561198079...      730   \n",
       "\n",
       "                                        helpful  recommend  sentiment_analysis  \n",
       "0  0 of 1 people (0%) found this review helpful       True                   1  "
      ]
     },
     "execution_count": 9,
     "metadata": {},
     "output_type": "execute_result"
    }
   ],
   "source": [
    "archivo =  'df_reviews_api.csv'\n",
    "df = pd.read_csv(archivo)\n",
    "df.head(1)"
   ]
  },
  {
   "cell_type": "code",
   "execution_count": 53,
   "metadata": {},
   "outputs": [
    {
     "data": {
      "text/html": [
       "<div>\n",
       "<style scoped>\n",
       "    .dataframe tbody tr th:only-of-type {\n",
       "        vertical-align: middle;\n",
       "    }\n",
       "\n",
       "    .dataframe tbody tr th {\n",
       "        vertical-align: top;\n",
       "    }\n",
       "\n",
       "    .dataframe thead th {\n",
       "        text-align: right;\n",
       "    }\n",
       "</style>\n",
       "<table border=\"1\" class=\"dataframe\">\n",
       "  <thead>\n",
       "    <tr style=\"text-align: right;\">\n",
       "      <th></th>\n",
       "      <th>user_id</th>\n",
       "      <th>item_id</th>\n",
       "      <th>recommend</th>\n",
       "      <th>sentiment_analysis</th>\n",
       "    </tr>\n",
       "  </thead>\n",
       "  <tbody>\n",
       "    <tr>\n",
       "      <th>0</th>\n",
       "      <td>76561198079601835</td>\n",
       "      <td>730</td>\n",
       "      <td>True</td>\n",
       "      <td>1</td>\n",
       "    </tr>\n",
       "    <tr>\n",
       "      <th>1</th>\n",
       "      <td>MeaTCompany</td>\n",
       "      <td>730</td>\n",
       "      <td>True</td>\n",
       "      <td>2</td>\n",
       "    </tr>\n",
       "    <tr>\n",
       "      <th>2</th>\n",
       "      <td>76561198089393905</td>\n",
       "      <td>72850</td>\n",
       "      <td>True</td>\n",
       "      <td>0</td>\n",
       "    </tr>\n",
       "    <tr>\n",
       "      <th>3</th>\n",
       "      <td>76561198089393905</td>\n",
       "      <td>440</td>\n",
       "      <td>True</td>\n",
       "      <td>1</td>\n",
       "    </tr>\n",
       "    <tr>\n",
       "      <th>4</th>\n",
       "      <td>76561198156664158</td>\n",
       "      <td>252950</td>\n",
       "      <td>True</td>\n",
       "      <td>2</td>\n",
       "    </tr>\n",
       "    <tr>\n",
       "      <th>5</th>\n",
       "      <td>76561198077246154</td>\n",
       "      <td>440</td>\n",
       "      <td>True</td>\n",
       "      <td>1</td>\n",
       "    </tr>\n",
       "    <tr>\n",
       "      <th>6</th>\n",
       "      <td>76561198077246154</td>\n",
       "      <td>304930</td>\n",
       "      <td>True</td>\n",
       "      <td>1</td>\n",
       "    </tr>\n",
       "    <tr>\n",
       "      <th>7</th>\n",
       "      <td>WeiEDKrSat</td>\n",
       "      <td>4000</td>\n",
       "      <td>True</td>\n",
       "      <td>1</td>\n",
       "    </tr>\n",
       "    <tr>\n",
       "      <th>8</th>\n",
       "      <td>thequeenpanda</td>\n",
       "      <td>42910</td>\n",
       "      <td>True</td>\n",
       "      <td>1</td>\n",
       "    </tr>\n",
       "    <tr>\n",
       "      <th>9</th>\n",
       "      <td>Rainbow-Dashie</td>\n",
       "      <td>730</td>\n",
       "      <td>True</td>\n",
       "      <td>2</td>\n",
       "    </tr>\n",
       "  </tbody>\n",
       "</table>\n",
       "</div>"
      ],
      "text/plain": [
       "             user_id  item_id  recommend  sentiment_analysis\n",
       "0  76561198079601835      730       True                   1\n",
       "1        MeaTCompany      730       True                   2\n",
       "2  76561198089393905    72850       True                   0\n",
       "3  76561198089393905      440       True                   1\n",
       "4  76561198156664158   252950       True                   2\n",
       "5  76561198077246154      440       True                   1\n",
       "6  76561198077246154   304930       True                   1\n",
       "7         WeiEDKrSat     4000       True                   1\n",
       "8      thequeenpanda    42910       True                   1\n",
       "9     Rainbow-Dashie      730       True                   2"
      ]
     },
     "execution_count": 53,
     "metadata": {},
     "output_type": "execute_result"
    }
   ],
   "source": [
    "# Seleccionar columnas mas relevantes\n",
    "df_user = df[['user_id','item_id','recommend','sentiment_analysis']]\n",
    "df_user.head(10)"
   ]
  },
  {
   "cell_type": "code",
   "execution_count": 47,
   "metadata": {},
   "outputs": [],
   "source": [
    "class ModeloRecomendacion:\n",
    "    def __init__(self, df_user):\n",
    "        self.df_user = df_user\n",
    "        self.model = NearestNeighbors(metric='cosine', algorithm='brute')\n",
    "        self.user_item_matrix = self._create_user_item_matrix()\n",
    "        self.model.fit(self.user_item_matrix)\n",
    "    \n",
    "    def _create_user_item_matrix(self):\n",
    "        user_item_matrix = df_user.pivot_table(index='user_id', columns='item_id', values='sentiment_analysis', fill_value=0)\n",
    "        return user_item_matrix\n",
    "    \n",
    "    def recomendacion_usuario(self, user_id):\n",
    "        user_index = self.user_item_matrix.index.get_loc(user_id)\n",
    "        distances, indices = self.model.kneighbors(self.user_item_matrix.iloc[user_index, :].values.reshape(1, -1), n_neighbors=6)\n",
    "        similar_users = self.user_item_matrix.index[indices.flatten()]\n",
    "        recommended_games = []\n",
    "        for user in similar_users[1:]:\n",
    "            recommended_games.extend(self.df_user[(self.df_user['user_id'] == user) & (self.df_user['recommend'] == True) & (~self.df_user['item_id'].isin(recommended_games))]['item_id'].tolist())\n",
    "        return recommended_games[:5]\n",
    "\n",
    "# Crear una instancia del modelo de recomendación\n",
    "modelo = ModeloRecomendacion(df_user)"
   ]
  },
  {
   "cell_type": "code",
   "execution_count": 48,
   "metadata": {},
   "outputs": [
    {
     "name": "stdout",
     "output_type": "stream",
     "text": [
      "[304050, 218230, 252490, 322330, 242880]\n"
     ]
    }
   ],
   "source": [
    "# Obtener recomendaciones para un usuario específico\n",
    "user_id = 'zombi_anon'\n",
    "recomendaciones = modelo.recomendacion_usuario(user_id)\n",
    "print(recomendaciones)"
   ]
  },
  {
   "cell_type": "code",
   "execution_count": 49,
   "metadata": {},
   "outputs": [
    {
     "name": "stdout",
     "output_type": "stream",
     "text": [
      "[345180, 359550, 32800, 323500, 50130]\n"
     ]
    }
   ],
   "source": [
    "# Obtener recomendaciones para un usuario específico\n",
    "user_id = 'zombieskiler6969'\n",
    "recomendaciones = modelo.recomendacion_usuario(user_id)\n",
    "print(recomendaciones)"
   ]
  }
 ],
 "metadata": {
  "kernelspec": {
   "display_name": "Python 3",
   "language": "python",
   "name": "python3"
  },
  "language_info": {
   "codemirror_mode": {
    "name": "ipython",
    "version": 3
   },
   "file_extension": ".py",
   "mimetype": "text/x-python",
   "name": "python",
   "nbconvert_exporter": "python",
   "pygments_lexer": "ipython3",
   "version": "3.11.9"
  }
 },
 "nbformat": 4,
 "nbformat_minor": 2
}
