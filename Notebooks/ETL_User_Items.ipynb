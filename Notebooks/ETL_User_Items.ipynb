{
 "cells": [
  {
   "cell_type": "code",
   "execution_count": 1,
   "metadata": {},
   "outputs": [],
   "source": [
    "import pandas as pd\n",
    "import os"
   ]
  },
  {
   "cell_type": "code",
   "execution_count": 2,
   "metadata": {},
   "outputs": [],
   "source": [
    "# Abrir archivo\n",
    "archivo_csv = 'Users_Items.csv'\n",
    "df_items = pd.read_csv(archivo_csv)"
   ]
  },
  {
   "cell_type": "code",
   "execution_count": 3,
   "metadata": {},
   "outputs": [
    {
     "data": {
      "text/html": [
       "<div>\n",
       "<style scoped>\n",
       "    .dataframe tbody tr th:only-of-type {\n",
       "        vertical-align: middle;\n",
       "    }\n",
       "\n",
       "    .dataframe tbody tr th {\n",
       "        vertical-align: top;\n",
       "    }\n",
       "\n",
       "    .dataframe thead th {\n",
       "        text-align: right;\n",
       "    }\n",
       "</style>\n",
       "<table border=\"1\" class=\"dataframe\">\n",
       "  <thead>\n",
       "    <tr style=\"text-align: right;\">\n",
       "      <th></th>\n",
       "      <th>user_id</th>\n",
       "      <th>items_count</th>\n",
       "      <th>steam_id</th>\n",
       "      <th>user_url</th>\n",
       "      <th>item_id</th>\n",
       "      <th>item_name</th>\n",
       "      <th>playtime_forever</th>\n",
       "      <th>playtime_2weeks</th>\n",
       "    </tr>\n",
       "  </thead>\n",
       "  <tbody>\n",
       "    <tr>\n",
       "      <th>0</th>\n",
       "      <td>76561198070234207</td>\n",
       "      <td>33</td>\n",
       "      <td>76561198070234207</td>\n",
       "      <td>http://steamcommunity.com/profiles/76561198070...</td>\n",
       "      <td>43110</td>\n",
       "      <td>Metro 2033</td>\n",
       "      <td>0</td>\n",
       "      <td>0</td>\n",
       "    </tr>\n",
       "    <tr>\n",
       "      <th>1</th>\n",
       "      <td>76561198070234207</td>\n",
       "      <td>33</td>\n",
       "      <td>76561198070234207</td>\n",
       "      <td>http://steamcommunity.com/profiles/76561198070...</td>\n",
       "      <td>105600</td>\n",
       "      <td>Terraria</td>\n",
       "      <td>15590</td>\n",
       "      <td>0</td>\n",
       "    </tr>\n",
       "    <tr>\n",
       "      <th>2</th>\n",
       "      <td>76561198070234207</td>\n",
       "      <td>33</td>\n",
       "      <td>76561198070234207</td>\n",
       "      <td>http://steamcommunity.com/profiles/76561198070...</td>\n",
       "      <td>38830</td>\n",
       "      <td>CrimeCraft GangWars</td>\n",
       "      <td>1</td>\n",
       "      <td>0</td>\n",
       "    </tr>\n",
       "    <tr>\n",
       "      <th>3</th>\n",
       "      <td>76561198070234207</td>\n",
       "      <td>33</td>\n",
       "      <td>76561198070234207</td>\n",
       "      <td>http://steamcommunity.com/profiles/76561198070...</td>\n",
       "      <td>99900</td>\n",
       "      <td>Spiral Knights</td>\n",
       "      <td>4116</td>\n",
       "      <td>0</td>\n",
       "    </tr>\n",
       "    <tr>\n",
       "      <th>4</th>\n",
       "      <td>76561198070234207</td>\n",
       "      <td>33</td>\n",
       "      <td>76561198070234207</td>\n",
       "      <td>http://steamcommunity.com/profiles/76561198070...</td>\n",
       "      <td>102700</td>\n",
       "      <td>A.V.A - Alliance of Valiant Arms</td>\n",
       "      <td>5</td>\n",
       "      <td>0</td>\n",
       "    </tr>\n",
       "  </tbody>\n",
       "</table>\n",
       "</div>"
      ],
      "text/plain": [
       "             user_id  items_count           steam_id  \\\n",
       "0  76561198070234207           33  76561198070234207   \n",
       "1  76561198070234207           33  76561198070234207   \n",
       "2  76561198070234207           33  76561198070234207   \n",
       "3  76561198070234207           33  76561198070234207   \n",
       "4  76561198070234207           33  76561198070234207   \n",
       "\n",
       "                                            user_url  item_id  \\\n",
       "0  http://steamcommunity.com/profiles/76561198070...    43110   \n",
       "1  http://steamcommunity.com/profiles/76561198070...   105600   \n",
       "2  http://steamcommunity.com/profiles/76561198070...    38830   \n",
       "3  http://steamcommunity.com/profiles/76561198070...    99900   \n",
       "4  http://steamcommunity.com/profiles/76561198070...   102700   \n",
       "\n",
       "                          item_name  playtime_forever  playtime_2weeks  \n",
       "0                        Metro 2033                 0                0  \n",
       "1                          Terraria             15590                0  \n",
       "2               CrimeCraft GangWars                 1                0  \n",
       "3                    Spiral Knights              4116                0  \n",
       "4  A.V.A - Alliance of Valiant Arms                 5                0  "
      ]
     },
     "execution_count": 3,
     "metadata": {},
     "output_type": "execute_result"
    }
   ],
   "source": [
    "df_items.head(5)"
   ]
  },
  {
   "cell_type": "code",
   "execution_count": 4,
   "metadata": {},
   "outputs": [],
   "source": [
    "df_items.to_csv('df_items_api.csv')"
   ]
  },
  {
   "cell_type": "code",
   "execution_count": 5,
   "metadata": {},
   "outputs": [],
   "source": [
    "# Ruta donde se guardará el archivo CSV\n",
    "ruta_csv = os.path.join('csv_api', 'df_items_api.csv')\n",
    "df_items.to_csv(ruta_csv, index=False) "
   ]
  }
 ],
 "metadata": {
  "kernelspec": {
   "display_name": "Python 3",
   "language": "python",
   "name": "python3"
  },
  "language_info": {
   "codemirror_mode": {
    "name": "ipython",
    "version": 3
   },
   "file_extension": ".py",
   "mimetype": "text/x-python",
   "name": "python",
   "nbconvert_exporter": "python",
   "pygments_lexer": "ipython3",
   "version": "3.11.9"
  }
 },
 "nbformat": 4,
 "nbformat_minor": 2
}
