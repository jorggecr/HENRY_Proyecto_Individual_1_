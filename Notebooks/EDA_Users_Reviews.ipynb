{
 "cells": [
  {
   "cell_type": "code",
   "execution_count": 2,
   "metadata": {},
   "outputs": [],
   "source": [
    "import pandas as pd"
   ]
  },
  {
   "cell_type": "code",
   "execution_count": 3,
   "metadata": {},
   "outputs": [],
   "source": [
    "# Abrir archivo\n",
    "archivo_csv = 'Users_Reviews.csv'\n",
    "df_reviews = pd.read_csv(archivo_csv)"
   ]
  },
  {
   "cell_type": "code",
   "execution_count": 4,
   "metadata": {},
   "outputs": [
    {
     "data": {
      "text/html": [
       "<div>\n",
       "<style scoped>\n",
       "    .dataframe tbody tr th:only-of-type {\n",
       "        vertical-align: middle;\n",
       "    }\n",
       "\n",
       "    .dataframe tbody tr th {\n",
       "        vertical-align: top;\n",
       "    }\n",
       "\n",
       "    .dataframe thead th {\n",
       "        text-align: right;\n",
       "    }\n",
       "</style>\n",
       "<table border=\"1\" class=\"dataframe\">\n",
       "  <thead>\n",
       "    <tr style=\"text-align: right;\">\n",
       "      <th></th>\n",
       "      <th>user_id</th>\n",
       "      <th>user_url</th>\n",
       "      <th>funny</th>\n",
       "      <th>posted</th>\n",
       "      <th>item_id</th>\n",
       "      <th>helpful</th>\n",
       "      <th>recommend</th>\n",
       "      <th>review</th>\n",
       "    </tr>\n",
       "  </thead>\n",
       "  <tbody>\n",
       "    <tr>\n",
       "      <th>0</th>\n",
       "      <td>76561198079601835</td>\n",
       "      <td>http://steamcommunity.com/profiles/76561198079...</td>\n",
       "      <td>1.0</td>\n",
       "      <td>May 20.</td>\n",
       "      <td>730</td>\n",
       "      <td>0 of 1 people (0%) found this review helpful</td>\n",
       "      <td>True</td>\n",
       "      <td>ZIKA DO BAILE</td>\n",
       "    </tr>\n",
       "    <tr>\n",
       "      <th>1</th>\n",
       "      <td>MeaTCompany</td>\n",
       "      <td>http://steamcommunity.com/id/MeaTCompany</td>\n",
       "      <td>NaN</td>\n",
       "      <td>July 24.</td>\n",
       "      <td>730</td>\n",
       "      <td>No ratings yet</td>\n",
       "      <td>True</td>\n",
       "      <td>BEST GAME IN THE BLOODY WORLD</td>\n",
       "    </tr>\n",
       "    <tr>\n",
       "      <th>2</th>\n",
       "      <td>76561198089393905</td>\n",
       "      <td>http://steamcommunity.com/profiles/76561198089...</td>\n",
       "      <td>5.0</td>\n",
       "      <td>February 1, 2015.</td>\n",
       "      <td>72850</td>\n",
       "      <td>3 of 3 people (100%) found this review helpful</td>\n",
       "      <td>True</td>\n",
       "      <td>Killed the Emperor, nobody cared and got away ...</td>\n",
       "    </tr>\n",
       "    <tr>\n",
       "      <th>3</th>\n",
       "      <td>76561198089393905</td>\n",
       "      <td>http://steamcommunity.com/profiles/76561198089...</td>\n",
       "      <td>1.0</td>\n",
       "      <td>June 20, 2014.</td>\n",
       "      <td>440</td>\n",
       "      <td>3 of 3 people (100%) found this review helpful</td>\n",
       "      <td>True</td>\n",
       "      <td>10/10 would eat your money for hats and keys</td>\n",
       "    </tr>\n",
       "    <tr>\n",
       "      <th>4</th>\n",
       "      <td>76561198156664158</td>\n",
       "      <td>http://steamcommunity.com/profiles/76561198156...</td>\n",
       "      <td>NaN</td>\n",
       "      <td>June 16.</td>\n",
       "      <td>252950</td>\n",
       "      <td>0 of 1 people (0%) found this review helpful</td>\n",
       "      <td>True</td>\n",
       "      <td>love it</td>\n",
       "    </tr>\n",
       "  </tbody>\n",
       "</table>\n",
       "</div>"
      ],
      "text/plain": [
       "             user_id                                           user_url  \\\n",
       "0  76561198079601835  http://steamcommunity.com/profiles/76561198079...   \n",
       "1        MeaTCompany           http://steamcommunity.com/id/MeaTCompany   \n",
       "2  76561198089393905  http://steamcommunity.com/profiles/76561198089...   \n",
       "3  76561198089393905  http://steamcommunity.com/profiles/76561198089...   \n",
       "4  76561198156664158  http://steamcommunity.com/profiles/76561198156...   \n",
       "\n",
       "   funny             posted  item_id  \\\n",
       "0    1.0            May 20.      730   \n",
       "1    NaN           July 24.      730   \n",
       "2    5.0  February 1, 2015.    72850   \n",
       "3    1.0     June 20, 2014.      440   \n",
       "4    NaN           June 16.   252950   \n",
       "\n",
       "                                          helpful  recommend  \\\n",
       "0    0 of 1 people (0%) found this review helpful       True   \n",
       "1                                  No ratings yet       True   \n",
       "2  3 of 3 people (100%) found this review helpful       True   \n",
       "3  3 of 3 people (100%) found this review helpful       True   \n",
       "4    0 of 1 people (0%) found this review helpful       True   \n",
       "\n",
       "                                              review  \n",
       "0                                      ZIKA DO BAILE  \n",
       "1                      BEST GAME IN THE BLOODY WORLD  \n",
       "2  Killed the Emperor, nobody cared and got away ...  \n",
       "3       10/10 would eat your money for hats and keys  \n",
       "4                                            love it  "
      ]
     },
     "execution_count": 4,
     "metadata": {},
     "output_type": "execute_result"
    }
   ],
   "source": [
    "df_reviews.head(5)"
   ]
  },
  {
   "cell_type": "code",
   "execution_count": 5,
   "metadata": {},
   "outputs": [
    {
     "name": "stdout",
     "output_type": "stream",
     "text": [
      "<class 'pandas.core.frame.DataFrame'>\n",
      "RangeIndex: 29638 entries, 0 to 29637\n",
      "Data columns (total 8 columns):\n",
      " #   Column     Non-Null Count  Dtype  \n",
      "---  ------     --------------  -----  \n",
      " 0   user_id    29638 non-null  object \n",
      " 1   user_url   29638 non-null  object \n",
      " 2   funny      3408 non-null   float64\n",
      " 3   posted     29638 non-null  object \n",
      " 4   item_id    29638 non-null  int64  \n",
      " 5   helpful    29638 non-null  object \n",
      " 6   recommend  29638 non-null  bool   \n",
      " 7   review     29611 non-null  object \n",
      "dtypes: bool(1), float64(1), int64(1), object(5)\n",
      "memory usage: 1.6+ MB\n"
     ]
    }
   ],
   "source": [
    "# Examinar la información del DataFrame, como el tipo de datos y los valores nulos.\n",
    "df_reviews.info()"
   ]
  },
  {
   "cell_type": "code",
   "execution_count": 6,
   "metadata": {},
   "outputs": [
    {
     "data": {
      "text/plain": [
       "user_id          0\n",
       "user_url         0\n",
       "funny        26230\n",
       "posted           0\n",
       "item_id          0\n",
       "helpful          0\n",
       "recommend        0\n",
       "review          27\n",
       "dtype: int64"
      ]
     },
     "execution_count": 6,
     "metadata": {},
     "output_type": "execute_result"
    }
   ],
   "source": [
    "df_reviews.isnull().sum()"
   ]
  },
  {
   "cell_type": "code",
   "execution_count": 7,
   "metadata": {},
   "outputs": [
    {
     "data": {
      "text/plain": [
       "user_id      16711\n",
       "user_url     16711\n",
       "funny           88\n",
       "posted        1700\n",
       "item_id       2295\n",
       "helpful        580\n",
       "recommend        2\n",
       "review       26809\n",
       "dtype: int64"
      ]
     },
     "execution_count": 7,
     "metadata": {},
     "output_type": "execute_result"
    }
   ],
   "source": [
    "# Observar la cantidad de valores unicos de cada columna\n",
    "df_reviews.nunique()"
   ]
  }
 ],
 "metadata": {
  "kernelspec": {
   "display_name": "Python 3",
   "language": "python",
   "name": "python3"
  },
  "language_info": {
   "codemirror_mode": {
    "name": "ipython",
    "version": 3
   },
   "file_extension": ".py",
   "mimetype": "text/x-python",
   "name": "python",
   "nbconvert_exporter": "python",
   "pygments_lexer": "ipython3",
   "version": "3.11.9"
  }
 },
 "nbformat": 4,
 "nbformat_minor": 2
}
