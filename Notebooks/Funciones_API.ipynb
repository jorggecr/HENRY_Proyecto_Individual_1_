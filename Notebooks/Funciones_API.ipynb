{
 "cells": [
  {
   "cell_type": "markdown",
   "metadata": {},
   "source": [
    "### Funciones para FastAPI"
   ]
  },
  {
   "cell_type": "markdown",
   "metadata": {},
   "source": [
    "- def developer( desarrollador : str ): Cantidad de items y porcentaje de contenido Free por año según empresa desarrolladora."
   ]
  },
  {
   "cell_type": "code",
   "execution_count": null,
   "metadata": {},
   "outputs": [],
   "source": []
  },
  {
   "cell_type": "code",
   "execution_count": 7,
   "metadata": {},
   "outputs": [],
   "source": [
    "import pandas as pd\n",
    "from fastapi import FastAPI\n",
    "\n",
    "app = FastAPI()\n",
    "\n",
    "# Cargar el dataset df_ep1\n",
    "df_ep1 = pd.read_csv(\"df_endp1.csv\")  # Asegúrate de proporcionar la ruta correcta al archivo CSV\n",
    "\n",
    "def developer(desarollador: str):\n",
    "    # Filtrar el DataFrame por el nombre del desarrollador\n",
    "    df_desarrollador = df_ep1[df_ep1['Developer'] == df_desarrollador]\n",
    "    \n",
    "    # Calcular la cantidad de ítems y el porcentaje de contenido gratuito por año\n",
    "    resultados = {}\n",
    "    for año, datos_año in df_desarrollador.groupby('Año'):\n",
    "        cantidad_total = datos_año['Cantidad de Items'].sum()\n",
    "        contenido_free = datos_año['Contenido Free'].str.rstrip('%').astype(float).sum()\n",
    "        porcentaje_free = (contenido_free / cantidad_total) * 100 if cantidad_total > 0 else 0\n",
    "        resultados[año] = {'Cantidad de Items': cantidad_total, 'Porcentaje de Contenido Free': porcentaje_free}\n",
    "    \n",
    "    return resultados\n",
    "\n",
    "# Definir la ruta para la función developer\n",
    "@app.get(\"/developer/{nombre}\")\n",
    "async def get_developer(nombre: str):\n",
    "    return developer(nombre)"
   ]
  }
 ],
 "metadata": {
  "kernelspec": {
   "display_name": "Python 3",
   "language": "python",
   "name": "python3"
  },
  "language_info": {
   "codemirror_mode": {
    "name": "ipython",
    "version": 3
   },
   "file_extension": ".py",
   "mimetype": "text/x-python",
   "name": "python",
   "nbconvert_exporter": "python",
   "pygments_lexer": "ipython3",
   "version": "3.11.9"
  }
 },
 "nbformat": 4,
 "nbformat_minor": 2
}
