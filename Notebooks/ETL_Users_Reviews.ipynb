{
 "cells": [
  {
   "cell_type": "code",
   "execution_count": 2,
   "metadata": {},
   "outputs": [],
   "source": [
    "import pandas as pd\n",
    "import os\n",
    "import nltk \n",
    "from nltk.sentiment.vader import SentimentIntensityAnalyzer"
   ]
  },
  {
   "cell_type": "code",
   "execution_count": 3,
   "metadata": {},
   "outputs": [],
   "source": [
    "# Abrir archivo\n",
    "archivo_csv = 'Users_Reviews.csv'\n",
    "df_reviews = pd.read_csv(archivo_csv)"
   ]
  },
  {
   "cell_type": "code",
   "execution_count": 4,
   "metadata": {},
   "outputs": [
    {
     "name": "stdout",
     "output_type": "stream",
     "text": [
      "<class 'pandas.core.frame.DataFrame'>\n",
      "RangeIndex: 29638 entries, 0 to 29637\n",
      "Data columns (total 8 columns):\n",
      " #   Column     Non-Null Count  Dtype  \n",
      "---  ------     --------------  -----  \n",
      " 0   user_id    29638 non-null  object \n",
      " 1   user_url   29638 non-null  object \n",
      " 2   funny      3408 non-null   float64\n",
      " 3   posted     29638 non-null  object \n",
      " 4   item_id    29638 non-null  int64  \n",
      " 5   helpful    29638 non-null  object \n",
      " 6   recommend  29638 non-null  bool   \n",
      " 7   review     29611 non-null  object \n",
      "dtypes: bool(1), float64(1), int64(1), object(5)\n",
      "memory usage: 1.6+ MB\n"
     ]
    }
   ],
   "source": [
    "df_reviews.info()"
   ]
  },
  {
   "cell_type": "code",
   "execution_count": 5,
   "metadata": {},
   "outputs": [
    {
     "data": {
      "text/html": [
       "<div>\n",
       "<style scoped>\n",
       "    .dataframe tbody tr th:only-of-type {\n",
       "        vertical-align: middle;\n",
       "    }\n",
       "\n",
       "    .dataframe tbody tr th {\n",
       "        vertical-align: top;\n",
       "    }\n",
       "\n",
       "    .dataframe thead th {\n",
       "        text-align: right;\n",
       "    }\n",
       "</style>\n",
       "<table border=\"1\" class=\"dataframe\">\n",
       "  <thead>\n",
       "    <tr style=\"text-align: right;\">\n",
       "      <th></th>\n",
       "      <th>user_id</th>\n",
       "      <th>user_url</th>\n",
       "      <th>funny</th>\n",
       "      <th>posted</th>\n",
       "      <th>item_id</th>\n",
       "      <th>helpful</th>\n",
       "      <th>recommend</th>\n",
       "      <th>review</th>\n",
       "    </tr>\n",
       "  </thead>\n",
       "  <tbody>\n",
       "    <tr>\n",
       "      <th>0</th>\n",
       "      <td>76561198079601835</td>\n",
       "      <td>http://steamcommunity.com/profiles/76561198079...</td>\n",
       "      <td>1.0</td>\n",
       "      <td>May 20.</td>\n",
       "      <td>730</td>\n",
       "      <td>0 of 1 people (0%) found this review helpful</td>\n",
       "      <td>True</td>\n",
       "      <td>ZIKA DO BAILE</td>\n",
       "    </tr>\n",
       "    <tr>\n",
       "      <th>1</th>\n",
       "      <td>MeaTCompany</td>\n",
       "      <td>http://steamcommunity.com/id/MeaTCompany</td>\n",
       "      <td>NaN</td>\n",
       "      <td>July 24.</td>\n",
       "      <td>730</td>\n",
       "      <td>No ratings yet</td>\n",
       "      <td>True</td>\n",
       "      <td>BEST GAME IN THE BLOODY WORLD</td>\n",
       "    </tr>\n",
       "    <tr>\n",
       "      <th>2</th>\n",
       "      <td>76561198089393905</td>\n",
       "      <td>http://steamcommunity.com/profiles/76561198089...</td>\n",
       "      <td>5.0</td>\n",
       "      <td>February 1, 2015.</td>\n",
       "      <td>72850</td>\n",
       "      <td>3 of 3 people (100%) found this review helpful</td>\n",
       "      <td>True</td>\n",
       "      <td>Killed the Emperor, nobody cared and got away ...</td>\n",
       "    </tr>\n",
       "    <tr>\n",
       "      <th>3</th>\n",
       "      <td>76561198089393905</td>\n",
       "      <td>http://steamcommunity.com/profiles/76561198089...</td>\n",
       "      <td>1.0</td>\n",
       "      <td>June 20, 2014.</td>\n",
       "      <td>440</td>\n",
       "      <td>3 of 3 people (100%) found this review helpful</td>\n",
       "      <td>True</td>\n",
       "      <td>10/10 would eat your money for hats and keys</td>\n",
       "    </tr>\n",
       "    <tr>\n",
       "      <th>4</th>\n",
       "      <td>76561198156664158</td>\n",
       "      <td>http://steamcommunity.com/profiles/76561198156...</td>\n",
       "      <td>NaN</td>\n",
       "      <td>June 16.</td>\n",
       "      <td>252950</td>\n",
       "      <td>0 of 1 people (0%) found this review helpful</td>\n",
       "      <td>True</td>\n",
       "      <td>love it</td>\n",
       "    </tr>\n",
       "  </tbody>\n",
       "</table>\n",
       "</div>"
      ],
      "text/plain": [
       "             user_id                                           user_url  \\\n",
       "0  76561198079601835  http://steamcommunity.com/profiles/76561198079...   \n",
       "1        MeaTCompany           http://steamcommunity.com/id/MeaTCompany   \n",
       "2  76561198089393905  http://steamcommunity.com/profiles/76561198089...   \n",
       "3  76561198089393905  http://steamcommunity.com/profiles/76561198089...   \n",
       "4  76561198156664158  http://steamcommunity.com/profiles/76561198156...   \n",
       "\n",
       "   funny             posted  item_id  \\\n",
       "0    1.0            May 20.      730   \n",
       "1    NaN           July 24.      730   \n",
       "2    5.0  February 1, 2015.    72850   \n",
       "3    1.0     June 20, 2014.      440   \n",
       "4    NaN           June 16.   252950   \n",
       "\n",
       "                                          helpful  recommend  \\\n",
       "0    0 of 1 people (0%) found this review helpful       True   \n",
       "1                                  No ratings yet       True   \n",
       "2  3 of 3 people (100%) found this review helpful       True   \n",
       "3  3 of 3 people (100%) found this review helpful       True   \n",
       "4    0 of 1 people (0%) found this review helpful       True   \n",
       "\n",
       "                                              review  \n",
       "0                                      ZIKA DO BAILE  \n",
       "1                      BEST GAME IN THE BLOODY WORLD  \n",
       "2  Killed the Emperor, nobody cared and got away ...  \n",
       "3       10/10 would eat your money for hats and keys  \n",
       "4                                            love it  "
      ]
     },
     "execution_count": 5,
     "metadata": {},
     "output_type": "execute_result"
    }
   ],
   "source": [
    "df_reviews.head(5)"
   ]
  },
  {
   "cell_type": "code",
   "execution_count": 6,
   "metadata": {},
   "outputs": [
    {
     "name": "stderr",
     "output_type": "stream",
     "text": [
      "C:\\Users\\Jorge\\AppData\\Local\\Temp\\ipykernel_15652\\3856798368.py:2: UserWarning: Could not infer format, so each element will be parsed individually, falling back to `dateutil`. To ensure parsing is consistent and as-expected, please specify a format.\n",
      "  df_reviews['posted'] = pd.to_datetime(df_reviews['posted'], errors='coerce') #Manejo de errores. En caso de no poder convertir en una fecha, se establecerá como NaT (Not a Time)\n"
     ]
    }
   ],
   "source": [
    "# Convertir la columna 'posted' a type datatime\n",
    "df_reviews['posted'] = pd.to_datetime(df_reviews['posted'], errors='coerce') #Manejo de errores. En caso de no poder convertir en una fecha, se establecerá como NaT (Not a Time)"
   ]
  },
  {
   "cell_type": "code",
   "execution_count": 7,
   "metadata": {},
   "outputs": [],
   "source": [
    "# Convertir la columna review a type str\n",
    "df_reviews['review'] = df_reviews['review'].astype(str)"
   ]
  },
  {
   "cell_type": "code",
   "execution_count": 8,
   "metadata": {},
   "outputs": [
    {
     "name": "stderr",
     "output_type": "stream",
     "text": [
      "[nltk_data] Downloading package vader_lexicon to\n",
      "[nltk_data]     C:\\Users\\Jorge\\AppData\\Roaming\\nltk_data...\n",
      "[nltk_data]   Package vader_lexicon is already up-to-date!\n"
     ]
    },
    {
     "data": {
      "text/plain": [
       "True"
      ]
     },
     "execution_count": 8,
     "metadata": {},
     "output_type": "execute_result"
    }
   ],
   "source": [
    "# Descargar recursos de nltk\n",
    "nltk.download('vader_lexicon')"
   ]
  },
  {
   "cell_type": "code",
   "execution_count": 9,
   "metadata": {},
   "outputs": [],
   "source": [
    "# Crear objeto SentimentIntensityAnalyzer\n",
    "sid = SentimentIntensityAnalyzer()"
   ]
  },
  {
   "cell_type": "code",
   "execution_count": 10,
   "metadata": {},
   "outputs": [],
   "source": [
    "# Crear la función para obtener el análisis de sentimiento con NLP\n",
    "\n",
    "def get_sentiment_score(text):\n",
    "    if pd.isnull(text):\n",
    "        return 1\n",
    "    else:\n",
    "        sentiment_score = sid.polarity_scores(text)['compound']\n",
    "        if sentiment_score >= 0.05:\n",
    "            return 2  # Positivo\n",
    "        elif sentiment_score <= -0.05:\n",
    "            return 0  # Malo\n",
    "        else:\n",
    "            return 1  # Neutral\n",
    "\n",
    "df_reviews['sentiment_analysis'] = df_reviews['review'].apply(get_sentiment_score)"
   ]
  },
  {
   "cell_type": "code",
   "execution_count": 11,
   "metadata": {},
   "outputs": [
    {
     "data": {
      "text/html": [
       "<div>\n",
       "<style scoped>\n",
       "    .dataframe tbody tr th:only-of-type {\n",
       "        vertical-align: middle;\n",
       "    }\n",
       "\n",
       "    .dataframe tbody tr th {\n",
       "        vertical-align: top;\n",
       "    }\n",
       "\n",
       "    .dataframe thead th {\n",
       "        text-align: right;\n",
       "    }\n",
       "</style>\n",
       "<table border=\"1\" class=\"dataframe\">\n",
       "  <thead>\n",
       "    <tr style=\"text-align: right;\">\n",
       "      <th></th>\n",
       "      <th>user_id</th>\n",
       "      <th>user_url</th>\n",
       "      <th>funny</th>\n",
       "      <th>posted</th>\n",
       "      <th>item_id</th>\n",
       "      <th>helpful</th>\n",
       "      <th>recommend</th>\n",
       "      <th>review</th>\n",
       "      <th>sentiment_analysis</th>\n",
       "    </tr>\n",
       "  </thead>\n",
       "  <tbody>\n",
       "    <tr>\n",
       "      <th>0</th>\n",
       "      <td>76561198079601835</td>\n",
       "      <td>http://steamcommunity.com/profiles/76561198079...</td>\n",
       "      <td>1.0</td>\n",
       "      <td>NaT</td>\n",
       "      <td>730</td>\n",
       "      <td>0 of 1 people (0%) found this review helpful</td>\n",
       "      <td>True</td>\n",
       "      <td>ZIKA DO BAILE</td>\n",
       "      <td>1</td>\n",
       "    </tr>\n",
       "    <tr>\n",
       "      <th>1</th>\n",
       "      <td>MeaTCompany</td>\n",
       "      <td>http://steamcommunity.com/id/MeaTCompany</td>\n",
       "      <td>NaN</td>\n",
       "      <td>NaT</td>\n",
       "      <td>730</td>\n",
       "      <td>No ratings yet</td>\n",
       "      <td>True</td>\n",
       "      <td>BEST GAME IN THE BLOODY WORLD</td>\n",
       "      <td>2</td>\n",
       "    </tr>\n",
       "  </tbody>\n",
       "</table>\n",
       "</div>"
      ],
      "text/plain": [
       "             user_id                                           user_url  \\\n",
       "0  76561198079601835  http://steamcommunity.com/profiles/76561198079...   \n",
       "1        MeaTCompany           http://steamcommunity.com/id/MeaTCompany   \n",
       "\n",
       "   funny posted  item_id                                       helpful  \\\n",
       "0    1.0    NaT      730  0 of 1 people (0%) found this review helpful   \n",
       "1    NaN    NaT      730                                No ratings yet   \n",
       "\n",
       "   recommend                         review  sentiment_analysis  \n",
       "0       True                  ZIKA DO BAILE                   1  \n",
       "1       True  BEST GAME IN THE BLOODY WORLD                   2  "
      ]
     },
     "execution_count": 11,
     "metadata": {},
     "output_type": "execute_result"
    }
   ],
   "source": [
    "df_reviews.head(2)"
   ]
  },
  {
   "cell_type": "code",
   "execution_count": 12,
   "metadata": {},
   "outputs": [],
   "source": [
    "# Eliminar columnas que ya fueron modificas o no aportan a la data\n",
    "\n",
    "df_reviews = df_reviews.drop(columns=['review'])\n",
    "df_reviews = df_reviews.drop(columns=['funny'])\n",
    "df_reviews = df_reviews.drop(columns=['posted'])"
   ]
  },
  {
   "cell_type": "code",
   "execution_count": 13,
   "metadata": {},
   "outputs": [
    {
     "data": {
      "text/html": [
       "<div>\n",
       "<style scoped>\n",
       "    .dataframe tbody tr th:only-of-type {\n",
       "        vertical-align: middle;\n",
       "    }\n",
       "\n",
       "    .dataframe tbody tr th {\n",
       "        vertical-align: top;\n",
       "    }\n",
       "\n",
       "    .dataframe thead th {\n",
       "        text-align: right;\n",
       "    }\n",
       "</style>\n",
       "<table border=\"1\" class=\"dataframe\">\n",
       "  <thead>\n",
       "    <tr style=\"text-align: right;\">\n",
       "      <th></th>\n",
       "      <th>user_id</th>\n",
       "      <th>user_url</th>\n",
       "      <th>item_id</th>\n",
       "      <th>helpful</th>\n",
       "      <th>recommend</th>\n",
       "      <th>sentiment_analysis</th>\n",
       "    </tr>\n",
       "  </thead>\n",
       "  <tbody>\n",
       "    <tr>\n",
       "      <th>0</th>\n",
       "      <td>76561198079601835</td>\n",
       "      <td>http://steamcommunity.com/profiles/76561198079...</td>\n",
       "      <td>730</td>\n",
       "      <td>0 of 1 people (0%) found this review helpful</td>\n",
       "      <td>True</td>\n",
       "      <td>1</td>\n",
       "    </tr>\n",
       "    <tr>\n",
       "      <th>1</th>\n",
       "      <td>MeaTCompany</td>\n",
       "      <td>http://steamcommunity.com/id/MeaTCompany</td>\n",
       "      <td>730</td>\n",
       "      <td>No ratings yet</td>\n",
       "      <td>True</td>\n",
       "      <td>2</td>\n",
       "    </tr>\n",
       "  </tbody>\n",
       "</table>\n",
       "</div>"
      ],
      "text/plain": [
       "             user_id                                           user_url  \\\n",
       "0  76561198079601835  http://steamcommunity.com/profiles/76561198079...   \n",
       "1        MeaTCompany           http://steamcommunity.com/id/MeaTCompany   \n",
       "\n",
       "   item_id                                       helpful  recommend  \\\n",
       "0      730  0 of 1 people (0%) found this review helpful       True   \n",
       "1      730                                No ratings yet       True   \n",
       "\n",
       "   sentiment_analysis  \n",
       "0                   1  \n",
       "1                   2  "
      ]
     },
     "execution_count": 13,
     "metadata": {},
     "output_type": "execute_result"
    }
   ],
   "source": [
    "df_reviews.head(2)"
   ]
  },
  {
   "cell_type": "code",
   "execution_count": 14,
   "metadata": {},
   "outputs": [],
   "source": [
    "df_reviews.to_csv('df_reviews_api.csv')"
   ]
  },
  {
   "cell_type": "code",
   "execution_count": 15,
   "metadata": {},
   "outputs": [],
   "source": [
    "# Ruta donde se guardará el archivo CSV\n",
    "ruta_csv = os.path.join('csv_api', 'df_reviews_api.csv')\n",
    "df_reviews.to_csv(ruta_csv, index=False) "
   ]
  }
 ],
 "metadata": {
  "kernelspec": {
   "display_name": "Python 3",
   "language": "python",
   "name": "python3"
  },
  "language_info": {
   "codemirror_mode": {
    "name": "ipython",
    "version": 3
   },
   "file_extension": ".py",
   "mimetype": "text/x-python",
   "name": "python",
   "nbconvert_exporter": "python",
   "pygments_lexer": "ipython3",
   "version": "3.11.9"
  }
 },
 "nbformat": 4,
 "nbformat_minor": 2
}
