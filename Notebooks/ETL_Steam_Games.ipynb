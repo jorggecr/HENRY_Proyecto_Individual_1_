{
 "cells": [
  {
   "cell_type": "code",
   "execution_count": 2,
   "metadata": {},
   "outputs": [],
   "source": [
    "import pandas as pd\n",
    "import numpy as np\n",
    "import os"
   ]
  },
  {
   "cell_type": "code",
   "execution_count": 3,
   "metadata": {},
   "outputs": [
    {
     "name": "stderr",
     "output_type": "stream",
     "text": [
      "C:\\Users\\Jorge\\AppData\\Local\\Temp\\ipykernel_12068\\2202411580.py:2: DtypeWarning: Columns (0,1,2,3,4,5,6,7,8,9,12) have mixed types. Specify dtype option on import or set low_memory=False.\n",
      "  df_games = pd.read_csv(archivo_csv)\n"
     ]
    }
   ],
   "source": [
    "archivo_csv = 'Steam_Games.csv'\n",
    "df_games = pd.read_csv(archivo_csv)"
   ]
  },
  {
   "cell_type": "code",
   "execution_count": 4,
   "metadata": {},
   "outputs": [
    {
     "data": {
      "text/html": [
       "<div>\n",
       "<style scoped>\n",
       "    .dataframe tbody tr th:only-of-type {\n",
       "        vertical-align: middle;\n",
       "    }\n",
       "\n",
       "    .dataframe tbody tr th {\n",
       "        vertical-align: top;\n",
       "    }\n",
       "\n",
       "    .dataframe thead th {\n",
       "        text-align: right;\n",
       "    }\n",
       "</style>\n",
       "<table border=\"1\" class=\"dataframe\">\n",
       "  <thead>\n",
       "    <tr style=\"text-align: right;\">\n",
       "      <th></th>\n",
       "      <th>publisher</th>\n",
       "      <th>genres</th>\n",
       "      <th>app_name</th>\n",
       "      <th>title</th>\n",
       "      <th>url</th>\n",
       "      <th>release_date</th>\n",
       "      <th>tags</th>\n",
       "      <th>reviews_url</th>\n",
       "      <th>specs</th>\n",
       "      <th>price</th>\n",
       "      <th>early_access</th>\n",
       "      <th>id</th>\n",
       "      <th>developer</th>\n",
       "    </tr>\n",
       "  </thead>\n",
       "  <tbody>\n",
       "    <tr>\n",
       "      <th>0</th>\n",
       "      <td>NaN</td>\n",
       "      <td>NaN</td>\n",
       "      <td>NaN</td>\n",
       "      <td>NaN</td>\n",
       "      <td>NaN</td>\n",
       "      <td>NaN</td>\n",
       "      <td>NaN</td>\n",
       "      <td>NaN</td>\n",
       "      <td>NaN</td>\n",
       "      <td>NaN</td>\n",
       "      <td>NaN</td>\n",
       "      <td>NaN</td>\n",
       "      <td>NaN</td>\n",
       "    </tr>\n",
       "    <tr>\n",
       "      <th>1</th>\n",
       "      <td>NaN</td>\n",
       "      <td>NaN</td>\n",
       "      <td>NaN</td>\n",
       "      <td>NaN</td>\n",
       "      <td>NaN</td>\n",
       "      <td>NaN</td>\n",
       "      <td>NaN</td>\n",
       "      <td>NaN</td>\n",
       "      <td>NaN</td>\n",
       "      <td>NaN</td>\n",
       "      <td>NaN</td>\n",
       "      <td>NaN</td>\n",
       "      <td>NaN</td>\n",
       "    </tr>\n",
       "  </tbody>\n",
       "</table>\n",
       "</div>"
      ],
      "text/plain": [
       "  publisher genres app_name title  url release_date tags reviews_url specs  \\\n",
       "0       NaN    NaN      NaN   NaN  NaN          NaN  NaN         NaN   NaN   \n",
       "1       NaN    NaN      NaN   NaN  NaN          NaN  NaN         NaN   NaN   \n",
       "\n",
       "  price  early_access  id developer  \n",
       "0   NaN           NaN NaN       NaN  \n",
       "1   NaN           NaN NaN       NaN  "
      ]
     },
     "execution_count": 4,
     "metadata": {},
     "output_type": "execute_result"
    }
   ],
   "source": [
    "df_games.head(2)"
   ]
  },
  {
   "cell_type": "code",
   "execution_count": 5,
   "metadata": {},
   "outputs": [],
   "source": [
    "# Elimnar valores nulos\n",
    "df = df_games.dropna(how='all')"
   ]
  },
  {
   "cell_type": "code",
   "execution_count": 6,
   "metadata": {},
   "outputs": [],
   "source": [
    "df = df.rename(columns={'id': 'item_id'})"
   ]
  },
  {
   "cell_type": "code",
   "execution_count": 7,
   "metadata": {},
   "outputs": [
    {
     "data": {
      "text/plain": [
       "88310    ['Action', 'Casual', 'Indie', 'Simulation', 'S...\n",
       "88311         ['Free to Play', 'Indie', 'RPG', 'Strategy']\n",
       "88312    ['Casual', 'Free to Play', 'Indie', 'Simulatio...\n",
       "88313                    ['Action', 'Adventure', 'Casual']\n",
       "88314                                                  NaN\n",
       "Name: genres, dtype: object"
      ]
     },
     "execution_count": 7,
     "metadata": {},
     "output_type": "execute_result"
    }
   ],
   "source": [
    "df['genres'].head()"
   ]
  },
  {
   "cell_type": "code",
   "execution_count": 8,
   "metadata": {},
   "outputs": [],
   "source": [
    "# Convertir los elementos de la columna 'genres' en listas explícitas utilizando eval(), manejar los valores NaN\n",
    "df['genres'] = df['genres'].apply(lambda x: eval(x) if not pd.isna(x) else np.nan)\n",
    "\n",
    "# Ahora puedes usar .explode() en la columna 'genres'\n",
    "df = df.explode('genres')"
   ]
  },
  {
   "cell_type": "code",
   "execution_count": 9,
   "metadata": {},
   "outputs": [
    {
     "data": {
      "text/html": [
       "<div>\n",
       "<style scoped>\n",
       "    .dataframe tbody tr th:only-of-type {\n",
       "        vertical-align: middle;\n",
       "    }\n",
       "\n",
       "    .dataframe tbody tr th {\n",
       "        vertical-align: top;\n",
       "    }\n",
       "\n",
       "    .dataframe thead th {\n",
       "        text-align: right;\n",
       "    }\n",
       "</style>\n",
       "<table border=\"1\" class=\"dataframe\">\n",
       "  <thead>\n",
       "    <tr style=\"text-align: right;\">\n",
       "      <th></th>\n",
       "      <th>publisher</th>\n",
       "      <th>genres</th>\n",
       "      <th>app_name</th>\n",
       "      <th>title</th>\n",
       "      <th>url</th>\n",
       "      <th>release_date</th>\n",
       "      <th>tags</th>\n",
       "      <th>reviews_url</th>\n",
       "      <th>specs</th>\n",
       "      <th>price</th>\n",
       "      <th>early_access</th>\n",
       "      <th>item_id</th>\n",
       "      <th>developer</th>\n",
       "    </tr>\n",
       "  </thead>\n",
       "  <tbody>\n",
       "    <tr>\n",
       "      <th>88310</th>\n",
       "      <td>Kotoshiro</td>\n",
       "      <td>Action</td>\n",
       "      <td>Lost Summoner Kitty</td>\n",
       "      <td>Lost Summoner Kitty</td>\n",
       "      <td>http://store.steampowered.com/app/761140/Lost_...</td>\n",
       "      <td>2018-01-04</td>\n",
       "      <td>['Strategy', 'Action', 'Indie', 'Casual', 'Sim...</td>\n",
       "      <td>http://steamcommunity.com/app/761140/reviews/?...</td>\n",
       "      <td>['Single-player']</td>\n",
       "      <td>4.99</td>\n",
       "      <td>0.0</td>\n",
       "      <td>761140.0</td>\n",
       "      <td>Kotoshiro</td>\n",
       "    </tr>\n",
       "    <tr>\n",
       "      <th>88310</th>\n",
       "      <td>Kotoshiro</td>\n",
       "      <td>Casual</td>\n",
       "      <td>Lost Summoner Kitty</td>\n",
       "      <td>Lost Summoner Kitty</td>\n",
       "      <td>http://store.steampowered.com/app/761140/Lost_...</td>\n",
       "      <td>2018-01-04</td>\n",
       "      <td>['Strategy', 'Action', 'Indie', 'Casual', 'Sim...</td>\n",
       "      <td>http://steamcommunity.com/app/761140/reviews/?...</td>\n",
       "      <td>['Single-player']</td>\n",
       "      <td>4.99</td>\n",
       "      <td>0.0</td>\n",
       "      <td>761140.0</td>\n",
       "      <td>Kotoshiro</td>\n",
       "    </tr>\n",
       "    <tr>\n",
       "      <th>88310</th>\n",
       "      <td>Kotoshiro</td>\n",
       "      <td>Indie</td>\n",
       "      <td>Lost Summoner Kitty</td>\n",
       "      <td>Lost Summoner Kitty</td>\n",
       "      <td>http://store.steampowered.com/app/761140/Lost_...</td>\n",
       "      <td>2018-01-04</td>\n",
       "      <td>['Strategy', 'Action', 'Indie', 'Casual', 'Sim...</td>\n",
       "      <td>http://steamcommunity.com/app/761140/reviews/?...</td>\n",
       "      <td>['Single-player']</td>\n",
       "      <td>4.99</td>\n",
       "      <td>0.0</td>\n",
       "      <td>761140.0</td>\n",
       "      <td>Kotoshiro</td>\n",
       "    </tr>\n",
       "    <tr>\n",
       "      <th>88310</th>\n",
       "      <td>Kotoshiro</td>\n",
       "      <td>Simulation</td>\n",
       "      <td>Lost Summoner Kitty</td>\n",
       "      <td>Lost Summoner Kitty</td>\n",
       "      <td>http://store.steampowered.com/app/761140/Lost_...</td>\n",
       "      <td>2018-01-04</td>\n",
       "      <td>['Strategy', 'Action', 'Indie', 'Casual', 'Sim...</td>\n",
       "      <td>http://steamcommunity.com/app/761140/reviews/?...</td>\n",
       "      <td>['Single-player']</td>\n",
       "      <td>4.99</td>\n",
       "      <td>0.0</td>\n",
       "      <td>761140.0</td>\n",
       "      <td>Kotoshiro</td>\n",
       "    </tr>\n",
       "    <tr>\n",
       "      <th>88310</th>\n",
       "      <td>Kotoshiro</td>\n",
       "      <td>Strategy</td>\n",
       "      <td>Lost Summoner Kitty</td>\n",
       "      <td>Lost Summoner Kitty</td>\n",
       "      <td>http://store.steampowered.com/app/761140/Lost_...</td>\n",
       "      <td>2018-01-04</td>\n",
       "      <td>['Strategy', 'Action', 'Indie', 'Casual', 'Sim...</td>\n",
       "      <td>http://steamcommunity.com/app/761140/reviews/?...</td>\n",
       "      <td>['Single-player']</td>\n",
       "      <td>4.99</td>\n",
       "      <td>0.0</td>\n",
       "      <td>761140.0</td>\n",
       "      <td>Kotoshiro</td>\n",
       "    </tr>\n",
       "  </tbody>\n",
       "</table>\n",
       "</div>"
      ],
      "text/plain": [
       "       publisher      genres             app_name                title  \\\n",
       "88310  Kotoshiro      Action  Lost Summoner Kitty  Lost Summoner Kitty   \n",
       "88310  Kotoshiro      Casual  Lost Summoner Kitty  Lost Summoner Kitty   \n",
       "88310  Kotoshiro       Indie  Lost Summoner Kitty  Lost Summoner Kitty   \n",
       "88310  Kotoshiro  Simulation  Lost Summoner Kitty  Lost Summoner Kitty   \n",
       "88310  Kotoshiro    Strategy  Lost Summoner Kitty  Lost Summoner Kitty   \n",
       "\n",
       "                                                     url release_date  \\\n",
       "88310  http://store.steampowered.com/app/761140/Lost_...   2018-01-04   \n",
       "88310  http://store.steampowered.com/app/761140/Lost_...   2018-01-04   \n",
       "88310  http://store.steampowered.com/app/761140/Lost_...   2018-01-04   \n",
       "88310  http://store.steampowered.com/app/761140/Lost_...   2018-01-04   \n",
       "88310  http://store.steampowered.com/app/761140/Lost_...   2018-01-04   \n",
       "\n",
       "                                                    tags  \\\n",
       "88310  ['Strategy', 'Action', 'Indie', 'Casual', 'Sim...   \n",
       "88310  ['Strategy', 'Action', 'Indie', 'Casual', 'Sim...   \n",
       "88310  ['Strategy', 'Action', 'Indie', 'Casual', 'Sim...   \n",
       "88310  ['Strategy', 'Action', 'Indie', 'Casual', 'Sim...   \n",
       "88310  ['Strategy', 'Action', 'Indie', 'Casual', 'Sim...   \n",
       "\n",
       "                                             reviews_url              specs  \\\n",
       "88310  http://steamcommunity.com/app/761140/reviews/?...  ['Single-player']   \n",
       "88310  http://steamcommunity.com/app/761140/reviews/?...  ['Single-player']   \n",
       "88310  http://steamcommunity.com/app/761140/reviews/?...  ['Single-player']   \n",
       "88310  http://steamcommunity.com/app/761140/reviews/?...  ['Single-player']   \n",
       "88310  http://steamcommunity.com/app/761140/reviews/?...  ['Single-player']   \n",
       "\n",
       "      price  early_access   item_id  developer  \n",
       "88310  4.99           0.0  761140.0  Kotoshiro  \n",
       "88310  4.99           0.0  761140.0  Kotoshiro  \n",
       "88310  4.99           0.0  761140.0  Kotoshiro  \n",
       "88310  4.99           0.0  761140.0  Kotoshiro  \n",
       "88310  4.99           0.0  761140.0  Kotoshiro  "
      ]
     },
     "execution_count": 9,
     "metadata": {},
     "output_type": "execute_result"
    }
   ],
   "source": [
    "df.head(5)"
   ]
  },
  {
   "cell_type": "code",
   "execution_count": 10,
   "metadata": {},
   "outputs": [],
   "source": [
    "df['release_date'] = pd.to_datetime(df['release_date'], errors='coerce')\n"
   ]
  },
  {
   "cell_type": "code",
   "execution_count": 11,
   "metadata": {},
   "outputs": [],
   "source": [
    "# Realizar una imputación basada en la distribución existente, en este caso la media para valores faltantes el la columna 'release_date' \n",
    "mean_year = df['release_date'].mean()\n",
    "# Imputacion \n",
    "df['release_date'].fillna(mean_year, inplace=True)\n",
    "df['release_date'] = df['release_date'].dt.date"
   ]
  },
  {
   "cell_type": "code",
   "execution_count": 12,
   "metadata": {},
   "outputs": [
    {
     "data": {
      "text/plain": [
       "3346"
      ]
     },
     "execution_count": 12,
     "metadata": {},
     "output_type": "execute_result"
    }
   ],
   "source": [
    "df['price'].isna().sum()"
   ]
  },
  {
   "cell_type": "code",
   "execution_count": 13,
   "metadata": {},
   "outputs": [],
   "source": [
    "# Convertir todos los valores que sean sean \"Free...\" a un unico valor \"Free to Play\"\n",
    "df['price'] = df['price'].replace(['Play Now', 'Free To Play', 'Free', 'Free Demo', 'Play for Free!', \n",
    "                                   'Install Now', 'Play WARMACHINE: Tactics Demo', 'Free Mod', \n",
    "                                   'Install Theme', 'Third-party', 'Play Now', 'Free HITMAN™ Holiday Pack', \n",
    "                                   'Play the Demo', 'Free to Try', 'Free to Use', 'Free Movie'], 'Free to Play')\n",
    "# Convertir todos los valores que sean sean \"Free...\" a un unico valor \"Free to Play\"\n",
    "df['price']= df['price'].replace(['Starting at $499.00', 'Starting at $449.00'],'499.00')"
   ]
  },
  {
   "cell_type": "code",
   "execution_count": 14,
   "metadata": {},
   "outputs": [
    {
     "data": {
      "text/plain": [
       "array(['4.99', 'Free to Play', '0.99', '2.99', '3.99', '9.99', '18.99',\n",
       "       '29.99', nan, '10.99', '1.5899999999999999', '14.99', '1.99',\n",
       "       '59.99', '8.99', '6.99', '7.99', '39.99', '19.99', '7.49', '12.99',\n",
       "       '5.99', '2.49', '15.99', '1.25', '24.99', '17.99', '61.99', '3.49',\n",
       "       '11.99', '13.99', '34.99', '74.76', '1.49', '32.99', '99.99',\n",
       "       '14.95', '69.99', '16.99', '79.99', '49.99', '5.0', '44.99',\n",
       "       '13.98', '29.96', '119.99', '109.99', '149.99', '771.71', '21.99',\n",
       "       '89.99', '0.98', '139.92', '4.29', '64.99', '54.99', '74.99',\n",
       "       '0.89', '0.5', '299.99', '1.29', '3.0', '15.0', '5.49', '23.99',\n",
       "       '49.0', '20.99', '10.93', '1.3900000000000001', '36.99', '4.49',\n",
       "       '2.0', '4.0', '9.0', '234.99', '1.9500000000000002', '1.5',\n",
       "       '199.0', '189.0', '6.66', '27.99', '10.49', '129.99', '179.0',\n",
       "       '26.99', '399.99', '31.99', '399.0', '20.0', '40.0', '3.33',\n",
       "       '199.99', '22.99', '320.0', '38.85', '71.7', '59.95', '995.0',\n",
       "       '27.49', '3.39', '6.0', '19.95', '499.99', '16.06', '4.68',\n",
       "       '131.4', '44.98', '202.76', '1.0', '2.3', '0.9500000000000001',\n",
       "       '172.24', '249.99', '2.9699999999999998', '10.96', '10.0', '30.0',\n",
       "       '2.66', '6.48', '19.29', '11.15', '18.9', '2.89', '99.0', '87.94',\n",
       "       '599.0', '8.98', '9.69', '0.49', '9.98', '9.95', '7.0', '499.00',\n",
       "       '12.89', '6.49', '1.87', '42.99', '41.99', '289.99', '23.96',\n",
       "       '5.65', '12.0', '13.37', '189.96', '124.99', '19.98', '160.91'],\n",
       "      dtype=object)"
      ]
     },
     "execution_count": 14,
     "metadata": {},
     "output_type": "execute_result"
    }
   ],
   "source": [
    "df['price'].unique()"
   ]
  },
  {
   "cell_type": "code",
   "execution_count": 15,
   "metadata": {},
   "outputs": [],
   "source": [
    "df_games_api = df.copy()"
   ]
  },
  {
   "cell_type": "code",
   "execution_count": 16,
   "metadata": {},
   "outputs": [],
   "source": [
    "df_games_api.to_csv('df_games_api.csv')"
   ]
  },
  {
   "cell_type": "code",
   "execution_count": 17,
   "metadata": {},
   "outputs": [],
   "source": [
    "# Ruta donde se guardará el archivo CSV\n",
    "ruta_csv = os.path.join('csv_api', 'df_games_api.csv')\n",
    "df_games_api.to_csv(ruta_csv, index=False) "
   ]
  }
 ],
 "metadata": {
  "kernelspec": {
   "display_name": "Python 3",
   "language": "python",
   "name": "python3"
  },
  "language_info": {
   "codemirror_mode": {
    "name": "ipython",
    "version": 3
   },
   "file_extension": ".py",
   "mimetype": "text/x-python",
   "name": "python",
   "nbconvert_exporter": "python",
   "pygments_lexer": "ipython3",
   "version": "3.11.9"
  }
 },
 "nbformat": 4,
 "nbformat_minor": 2
}
